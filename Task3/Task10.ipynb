{
 "cells": [
  {
   "cell_type": "code",
   "execution_count": 0,
   "metadata": {
    "application/vnd.databricks.v1+cell": {
     "cellMetadata": {
      "byteLimit": 2048000,
      "rowLimit": 10000
     },
     "inputWidgets": {},
     "nuid": "804d44a1-2029-4a22-8199-9609120cf8b9",
     "showTitle": false,
     "title": ""
    }
   },
   "outputs": [],
   "source": [
    "## Step 1: Importing Libraries\n",
    "from pyspark.sql import SparkSession\n",
    "from pyspark.ml.feature import VectorAssembler\n",
    "from pyspark.ml.feature import PCA"
   ]
  },
  {
   "cell_type": "code",
   "execution_count": 0,
   "metadata": {
    "application/vnd.databricks.v1+cell": {
     "cellMetadata": {
      "byteLimit": 2048000,
      "rowLimit": 10000
     },
     "inputWidgets": {},
     "nuid": "eda02462-d7fd-4649-b995-8ae46524e7db",
     "showTitle": false,
     "title": ""
    }
   },
   "outputs": [],
   "source": [
    "## Step 2: Initializing Spark Session\n",
    "spark = SparkSession.builder.appName(\"DimensionalityReduction\").getOrCreate()"
   ]
  },
  {
   "cell_type": "code",
   "execution_count": 0,
   "metadata": {
    "application/vnd.databricks.v1+cell": {
     "cellMetadata": {
      "byteLimit": 2048000,
      "rowLimit": 10000
     },
     "inputWidgets": {},
     "nuid": "6f81233b-fbb1-4ec8-b61b-355fc07179bd",
     "showTitle": false,
     "title": ""
    }
   },
   "outputs": [
    {
     "output_type": "stream",
     "name": "stdout",
     "output_type": "stream",
     "text": [
      "+---------+-----------+-----------+------------+-----------+---------+---------+------------------+----------+------------------+----------+-----+-------+---+\n|film_code|cinema_code|total_sales|tickets_sold|tickets_out|show_time|occu_perc|      ticket_price|ticket_use|          capacity|      date|month|quarter|day|\n+---------+-----------+-----------+------------+-----------+---------+---------+------------------+----------+------------------+----------+-----+-------+---+\n|     1492|        304|    3900000|          26|          0|        4|     4.26|          150000.0|        26| 610.3286384976526|2018-05-05|    5|      2|  5|\n|     1492|        352|    3360000|          42|          0|        5|     8.08|           80000.0|        42| 519.8019801980198|2018-05-05|    5|      2|  5|\n|     1492|        489|    2560000|          32|          0|        4|     20.0|           80000.0|        32|             160.0|2018-05-05|    5|      2|  5|\n|     1492|        429|    1200000|          12|          0|        1|    11.01|          100000.0|        12|108.99182561307903|2018-05-05|    5|      2|  5|\n|     1492|        524|    1200000|          15|          0|        3|    16.67|           80000.0|        15| 89.98200359928013|2018-05-05|    5|      2|  5|\n|     1492|         71|    1050000|           7|          0|        3|     0.98|          150000.0|         7| 714.2857142857143|2018-05-05|    5|      2|  5|\n|     1492|        163|    1020000|          10|          0|        3|     7.69|          102000.0|        10|130.03901170351105|2018-05-05|    5|      2|  5|\n|     1492|        450|     750000|           5|          0|        3|     1.57|          150000.0|         5| 318.4713375796178|2018-05-05|    5|      2|  5|\n|     1492|         51|     750000|          11|          0|        2|     0.95| 68181.81818181818|        11|1157.8947368421052|2018-05-05|    5|      2|  5|\n|     1492|        522|     600000|           4|          0|        3|     1.55|          150000.0|         4|258.06451612903226|2018-05-05|    5|      2|  5|\n|     1492|         43|     480000|           6|          0|        3|     0.44|           80000.0|         6|1363.6363636363637|2018-05-05|    5|      2|  5|\n|     1492|        529|     480000|           4|          0|        3|     2.96|          120000.0|         4|135.13513513513513|2018-05-05|    5|      2|  5|\n|     1492|         82|     400000|           5|          0|        6|     0.53|           80000.0|         5| 943.3962264150942|2018-05-05|    5|      2|  5|\n|     1492|        344|     300000|           2|          0|        3|     0.25|          150000.0|         2|             800.0|2018-05-05|    5|      2|  5|\n|     1492|         73|     240000|           2|          0|        1|     2.04|          120000.0|         2|  98.0392156862745|2018-05-05|    5|      2|  5|\n|     1492|        304|   16500000|         112|          0|        4|    18.33|147321.42857142858|       112| 611.0201854882707|2018-05-04|    5|      2|  4|\n|     1492|        352|   13950000|          93|          0|        5|    10.57|          150000.0|        93| 879.8486281929991|2018-05-04|    5|      2|  4|\n|     1492|        344|   10200000|          68|          0|        3|     8.54|          150000.0|        68| 796.2529274004685|2018-05-04|    5|      2|  4|\n|     1492|         71|    6600000|          44|          0|        3|     6.14|          150000.0|        44| 716.6123778501629|2018-05-04|    5|      2|  4|\n|     1492|        163|    3360000|          31|          0|        3|     24.8|108387.09677419355|        31|             125.0|2018-05-04|    5|      2|  4|\n+---------+-----------+-----------+------------+-----------+---------+---------+------------------+----------+------------------+----------+-----+-------+---+\nonly showing top 20 rows\n\n"
     ]
    }
   ],
   "source": [
    "## Step 3: Loading the Dataset\n",
    "file_path = \"dbfs:/FileStore/shared_uploads/utkarshsatishkumar.shah@sjsu.edu/cinemaTicket_Ref.csv\" \n",
    "df = spark.read.csv(file_path, header=True, inferSchema=True)\n",
    "df.show()"
   ]
  },
  {
   "cell_type": "code",
   "execution_count": 0,
   "metadata": {
    "application/vnd.databricks.v1+cell": {
     "cellMetadata": {
      "byteLimit": 2048000,
      "rowLimit": 10000
     },
     "inputWidgets": {},
     "nuid": "2cbaf51e-21fb-4d8a-9537-5ce22d6ec092",
     "showTitle": false,
     "title": ""
    }
   },
   "outputs": [
    {
     "output_type": "stream",
     "name": "stdout",
     "output_type": "stream",
     "text": [
      "root\n |-- film_code: integer (nullable = true)\n |-- cinema_code: integer (nullable = true)\n |-- total_sales: integer (nullable = true)\n |-- tickets_sold: integer (nullable = true)\n |-- tickets_out: integer (nullable = true)\n |-- show_time: integer (nullable = true)\n |-- occu_perc: double (nullable = true)\n |-- ticket_price: double (nullable = true)\n |-- ticket_use: integer (nullable = true)\n |-- capacity: double (nullable = true)\n |-- date: date (nullable = true)\n |-- month: integer (nullable = true)\n |-- quarter: integer (nullable = true)\n |-- day: integer (nullable = true)\n\n+---------+-----------+-----------+------------+-----------+---------+---------+------------+----------+------------------+----------+-----+-------+---+\n|film_code|cinema_code|total_sales|tickets_sold|tickets_out|show_time|occu_perc|ticket_price|ticket_use|          capacity|      date|month|quarter|day|\n+---------+-----------+-----------+------------+-----------+---------+---------+------------+----------+------------------+----------+-----+-------+---+\n|     1492|        304|    3900000|          26|          0|        4|     4.26|    150000.0|        26| 610.3286384976526|2018-05-05|    5|      2|  5|\n|     1492|        352|    3360000|          42|          0|        5|     8.08|     80000.0|        42| 519.8019801980198|2018-05-05|    5|      2|  5|\n|     1492|        489|    2560000|          32|          0|        4|     20.0|     80000.0|        32|             160.0|2018-05-05|    5|      2|  5|\n|     1492|        429|    1200000|          12|          0|        1|    11.01|    100000.0|        12|108.99182561307903|2018-05-05|    5|      2|  5|\n|     1492|        524|    1200000|          15|          0|        3|    16.67|     80000.0|        15| 89.98200359928013|2018-05-05|    5|      2|  5|\n+---------+-----------+-----------+------------+-----------+---------+---------+------------+----------+------------------+----------+-----+-------+---+\nonly showing top 5 rows\n\n"
     ]
    }
   ],
   "source": [
    "## Step 4: Inspecting the Data\n",
    "\n",
    "# Print the schema of the dataframe\n",
    "df.printSchema()\n",
    "\n",
    "# Show a sample of the data\n",
    "df.show(5)"
   ]
  },
  {
   "cell_type": "code",
   "execution_count": 0,
   "metadata": {
    "application/vnd.databricks.v1+cell": {
     "cellMetadata": {
      "byteLimit": 2048000,
      "rowLimit": 10000
     },
     "inputWidgets": {},
     "nuid": "9bba9224-097e-4732-9932-b22644f1b765",
     "showTitle": false,
     "title": ""
    }
   },
   "outputs": [
    {
     "output_type": "stream",
     "name": "stdout",
     "output_type": "stream",
     "text": [
      "+---------+-----------+-----------+------------+-----------+---------+---------+------------+----------+------------------+----------+-----+-------+---+--------------------+\n|film_code|cinema_code|total_sales|tickets_sold|tickets_out|show_time|occu_perc|ticket_price|ticket_use|          capacity|      date|month|quarter|day|            features|\n+---------+-----------+-----------+------------+-----------+---------+---------+------------+----------+------------------+----------+-----+-------+---+--------------------+\n|     1492|        304|    3900000|          26|          0|        4|     4.26|    150000.0|        26| 610.3286384976526|2018-05-05|    5|      2|  5|[3900000.0,26.0,1...|\n|     1492|        352|    3360000|          42|          0|        5|     8.08|     80000.0|        42| 519.8019801980198|2018-05-05|    5|      2|  5|[3360000.0,42.0,8...|\n|     1492|        489|    2560000|          32|          0|        4|     20.0|     80000.0|        32|             160.0|2018-05-05|    5|      2|  5|[2560000.0,32.0,8...|\n|     1492|        429|    1200000|          12|          0|        1|    11.01|    100000.0|        12|108.99182561307903|2018-05-05|    5|      2|  5|[1200000.0,12.0,1...|\n|     1492|        524|    1200000|          15|          0|        3|    16.67|     80000.0|        15| 89.98200359928013|2018-05-05|    5|      2|  5|[1200000.0,15.0,8...|\n+---------+-----------+-----------+------------+-----------+---------+---------+------------+----------+------------------+----------+-----+-------+---+--------------------+\nonly showing top 5 rows\n\n"
     ]
    }
   ],
   "source": [
    "## Step 5: Selecting Features for PCA\n",
    "\n",
    "assembler = VectorAssembler(inputCols=[\"total_sales\", \"tickets_sold\", \"ticket_price\"], outputCol=\"features\")\n",
    "feature_df = assembler.transform(df)\n",
    "feature_df.show(5)\n"
   ]
  },
  {
   "cell_type": "code",
   "execution_count": 0,
   "metadata": {
    "application/vnd.databricks.v1+cell": {
     "cellMetadata": {
      "byteLimit": 2048000,
      "rowLimit": 10000
     },
     "inputWidgets": {},
     "nuid": "6410555f-085a-4bbc-92fa-b157a8021e53",
     "showTitle": false,
     "title": ""
    }
   },
   "outputs": [
    {
     "output_type": "stream",
     "name": "stdout",
     "output_type": "stream",
     "text": [
      "+---------+-----------+-----------+------------+-----------+---------+---------+------------+----------+------------------+----------+-----+-------+---+--------------------+--------------------+\n|film_code|cinema_code|total_sales|tickets_sold|tickets_out|show_time|occu_perc|ticket_price|ticket_use|          capacity|      date|month|quarter|day|            features|         pcaFeatures|\n+---------+-----------+-----------+------------+-----------+---------+---------+------------+----------+------------------+----------+-----+-------+---+--------------------+--------------------+\n|     1492|        304|    3900000|          26|          0|        4|     4.26|    150000.0|        26| 610.3286384976526|2018-05-05|    5|      2|  5|[3900000.0,26.0,1...|[-3900044.1392700...|\n|     1492|        352|    3360000|          42|          0|        5|     8.08|     80000.0|        42| 519.8019801980198|2018-05-05|    5|      2|  5|[3360000.0,42.0,8...|[-3360023.4852888...|\n|     1492|        489|    2560000|          32|          0|        4|     20.0|     80000.0|        32|             160.0|2018-05-05|    5|      2|  5|[2560000.0,32.0,8...|[-2560023.5201366...|\n|     1492|        429|    1200000|          12|          0|        1|    11.01|    100000.0|        12|108.99182561307903|2018-05-05|    5|      2|  5|[1200000.0,12.0,1...|[-1200029.4872653...|\n|     1492|        524|    1200000|          15|          0|        3|    16.67|     80000.0|        15| 89.98200359928013|2018-05-05|    5|      2|  5|[1200000.0,15.0,8...|[-1200023.5793779...|\n+---------+-----------+-----------+------------+-----------+---------+---------+------------+----------+------------------+----------+-----+-------+---+--------------------+--------------------+\nonly showing top 5 rows\n\n"
     ]
    }
   ],
   "source": [
    "## Step 6: Applying PCA\n",
    "\n",
    "pca = PCA(k=3, inputCol=\"features\", outputCol=\"pcaFeatures\")\n",
    "model = pca.fit(feature_df)\n",
    "result = model.transform(feature_df)\n",
    "result.show(5)\n"
   ]
  },
  {
   "cell_type": "code",
   "execution_count": 0,
   "metadata": {
    "application/vnd.databricks.v1+cell": {
     "cellMetadata": {
      "byteLimit": 2048000,
      "rowLimit": 10000
     },
     "inputWidgets": {},
     "nuid": "c9888884-fe3d-469c-b07b-faa1e9823ba3",
     "showTitle": false,
     "title": ""
    }
   },
   "outputs": [
    {
     "output_type": "stream",
     "name": "stdout",
     "output_type": "stream",
     "text": [
      "Explained Variance by each component:  [0.9999989117140172,1.0882743638448862e-06,1.1619019848883753e-11]\n"
     ]
    }
   ],
   "source": [
    "## Step 7: Interpreting PCA Results\n",
    "\n",
    "# Explained variance by each principal component\n",
    "explained_variance = model.explainedVariance\n",
    "print(\"Explained Variance by each component: \", explained_variance)\n"
   ]
  },
  {
   "cell_type": "code",
   "execution_count": 0,
   "metadata": {
    "application/vnd.databricks.v1+cell": {
     "cellMetadata": {
      "byteLimit": 2048000,
      "rowLimit": 10000
     },
     "inputWidgets": {},
     "nuid": "1cc66cf3-85f4-494c-8648-a757d27e8877",
     "showTitle": false,
     "title": ""
    }
   },
   "outputs": [
    {
     "output_type": "stream",
     "name": "stdout",
     "output_type": "stream",
     "text": [
      "+--------------------+\n|         pcaFeatures|\n+--------------------+\n|[-3900044.1392700...|\n|[-3360023.4852888...|\n|[-2560023.5201366...|\n|[-1200029.4872653...|\n|[-1200023.5793779...|\n+--------------------+\nonly showing top 5 rows\n\n"
     ]
    }
   ],
   "source": [
    "## Step 8: Using PCA Results\n",
    "\n",
    "# Selecting the first two principal components for visualization\n",
    "pca_result = result.select(\"pcaFeatures\")\n",
    "pca_result.show(5)\n"
   ]
  },
  {
   "cell_type": "code",
   "execution_count": 0,
   "metadata": {
    "application/vnd.databricks.v1+cell": {
     "cellMetadata": {
      "byteLimit": 2048000,
      "rowLimit": 10000
     },
     "inputWidgets": {},
     "nuid": "e938e89b-d754-4cb1-9f80-6b5320ec3fb7",
     "showTitle": false,
     "title": ""
    }
   },
   "outputs": [
    {
     "output_type": "display_data",
     "data": {
      "text/html": [
       "<style scoped>\n",
       "  .ansiout {\n",
       "    display: block;\n",
       "    unicode-bidi: embed;\n",
       "    white-space: pre-wrap;\n",
       "    word-wrap: break-word;\n",
       "    word-break: break-all;\n",
       "    font-family: \"Menlo\", \"Monaco\", \"Consolas\", \"Ubuntu Mono\", \"Source Code Pro\", monospace;\n",
       "    font-size: 13px;\n",
       "    color: #555;\n",
       "    margin-left: 4px;\n",
       "    line-height: 19px;\n",
       "  }\n",
       "</style>"
      ]
     },
     "metadata": {
      "application/vnd.databricks.v1+output": {
       "arguments": {},
       "data": "",
       "errorSummary": "The spark context has stopped and the driver is restarting. Your notebook will be automatically reattached.",
       "errorTraceType": "html",
       "metadata": {},
       "type": "ipynbError"
      }
     },
     "output_type": "display_data"
    }
   ],
   "source": [
    "## Last Step : Cleanup\n",
    "spark.stop()"
   ]
  }
 ],
 "metadata": {
  "application/vnd.databricks.v1+notebook": {
   "dashboards": [],
   "language": "python",
   "notebookMetadata": {
    "pythonIndentUnit": 4
   },
   "notebookName": "Untitled Notebook 2023-12-03 21:59:42",
   "widgets": {}
  }
 },
 "nbformat": 4,
 "nbformat_minor": 0
}
